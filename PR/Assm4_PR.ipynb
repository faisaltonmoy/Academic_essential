{
  "nbformat": 4,
  "nbformat_minor": 0,
  "metadata": {
    "colab": {
      "name": "Assm4_PR_170204025.ipynb",
      "provenance": []
    },
    "kernelspec": {
      "name": "python3",
      "display_name": "Python 3"
    },
    "language_info": {
      "name": "python"
    }
  },
  "cells": [
    {
      "cell_type": "markdown",
      "source": [
        "# ***Import files***"
      ],
      "metadata": {
        "id": "RyfJoob7jTHp"
      }
    },
    {
      "cell_type": "code",
      "execution_count": null,
      "metadata": {
        "id": "R9DGwi89i97H"
      },
      "outputs": [],
      "source": [
        "import numpy as np\n",
        "import matplotlib.pyplot as plt\n",
        "import os\n",
        "from math import sqrt\n",
        "import io\n",
        "import pandas as pd"
      ]
    },
    {
      "cell_type": "markdown",
      "source": [
        "# ***Drive mount***"
      ],
      "metadata": {
        "id": "rRa0AEm3jlIP"
      }
    },
    {
      "cell_type": "code",
      "source": [
        "from google.colab import drive\n",
        "drive.mount('/content/drive')"
      ],
      "metadata": {
        "colab": {
          "base_uri": "https://localhost:8080/"
        },
        "id": "op6yqlZJjSbo",
        "outputId": "62145f54-708b-451d-d1aa-261c6f9c469c"
      },
      "execution_count": null,
      "outputs": [
        {
          "output_type": "stream",
          "name": "stdout",
          "text": [
            "Mounted at /content/drive\n"
          ]
        }
      ]
    },
    {
      "cell_type": "code",
      "source": [
        "data = pd.read_csv('/content/drive/MyDrive/Data/Pattern/data_k_mean.txt',sep = ' ', header = None,encoding='UTF-8')\n",
        "data_np = data.to_numpy()"
      ],
      "metadata": {
        "id": "__UIoE5ojrS8"
      },
      "execution_count": null,
      "outputs": []
    },
    {
      "cell_type": "markdown",
      "source": [
        "# ***Plotting***"
      ],
      "metadata": {
        "id": "DHxmovpbkbSu"
      }
    },
    {
      "cell_type": "code",
      "source": [
        "plt.scatter(data[0], data[1], c = 'r', marker = 'o')\n",
        "plt.show()"
      ],
      "metadata": {
        "colab": {
          "base_uri": "https://localhost:8080/",
          "height": 265
        },
        "id": "tgC_9JPDkgz8",
        "outputId": "b40b232d-6640-4cea-9b2a-1d559651124b"
      },
      "execution_count": null,
      "outputs": [
        {
          "output_type": "display_data",
          "data": {
            "text/plain": [
              "<Figure size 432x288 with 1 Axes>"
            ],
            "image/png": "[encoded data removed]"
          },
          "metadata": {
            "needs_background": "light"
          }
        }
      ]
    },
    {
      "cell_type": "markdown",
      "source": [
        "# ***k-means clustering***"
      ],
      "metadata": {
        "id": "65TL29qAl0BR"
      }
    },
    {
      "cell_type": "code",
      "source": [
        "k = int(input(\"Enter the value of k : \"))"
      ],
      "metadata": {
        "colab": {
          "base_uri": "https://localhost:8080/"
        },
        "id": "dig--5J8knNT",
        "outputId": "5609ca6e-882a-4d42-d48f-9b5ad1e58afd"
      },
      "execution_count": null,
      "outputs": [
        {
          "name": "stdout",
          "output_type": "stream",
          "text": [
            "Enter the value of k : 2\n"
          ]
        }
      ]
    },
    {
      "cell_type": "code",
      "source": [
        "np.random.seed(seed=4)\n",
        "random_numbers = np.random.randint(low=0, high=len(data_np), size=(k,))\n",
        "centroids = [data_np[random_numbers[i]] for i in range(k)]"
      ],
      "metadata": {
        "id": "xrdmeW0gkpeo"
      },
      "execution_count": null,
      "outputs": []
    },
    {
      "cell_type": "code",
      "source": [
        "distance = [] \n",
        "index_clusters = [-1 for i in range(len(data_np))] \n",
        "count = 0 \n",
        "clusters = {} \n",
        "\n",
        "for x in range(200):\n",
        "  count = x\n",
        "\n",
        "  flag = 0 \n",
        "  for y in range(k):\n",
        "    clusters[y] = []\n",
        "\n",
        "  for i in range(len(data_np)):\n",
        "    distance = []\n",
        "    for j in range(k):\n",
        "      dist = np.sqrt(pow((data_np[i][0] - centroids[j][0]), 2) + pow((data_np[i][1] - centroids[j][1]), 2))\n",
        "      distance.append(dist)\n",
        "    ind = distance.index(min(distance))\n",
        "\n",
        "    if index_clusters[i] != ind:\n",
        "      flag = 1\n",
        "      index_clusters[i] = ind\n",
        "    clusters[ind].append(data_np[i])\n",
        "\n",
        "  if flag == 0:\n",
        "    break\n",
        "\n",
        "  centroids = [np.mean(np.asarray(clusters[z]), axis=0) for z in range(k)]"
      ],
      "metadata": {
        "id": "-xbtcSbGkqK2"
      },
      "execution_count": null,
      "outputs": []
    },
    {
      "cell_type": "code",
      "source": [
        "#plot class 1 and class 2 data points\n",
        "x1 = np.asarray(clusters[0])[:, 0]\n",
        "y1 = np.asarray(clusters[0])[:, 1]\n",
        "x2 = np.asarray(clusters[1])[:, 0]\n",
        "y2 = np.asarray(clusters[1])[:, 1]"
      ],
      "metadata": {
        "id": "_a1ZrRulktmU"
      },
      "execution_count": null,
      "outputs": []
    },
    {
      "cell_type": "code",
      "source": [
        "# plotting data points \n",
        "plt.scatter(x1, y1, c = 'r', marker = 'o', label = 'Class 1')\n",
        "plt.scatter(x2, y2, c = 'g', marker = 'o', label = 'Class 2')\n",
        "plt.legend(loc = 'best')\n",
        "plt.show()"
      ],
      "metadata": {
        "colab": {
          "base_uri": "https://localhost:8080/",
          "height": 265
        },
        "id": "fyiw99h9kvuC",
        "outputId": "9d4f93fe-976b-4cf3-f384-12baf4eed30b"
      },
      "execution_count": null,
      "outputs": [
        {
          "output_type": "display_data",
          "data": {
            "text/plain": [
              "<Figure size 432x288 with 1 Axes>"
            ],
            "image/png": "[encoded data removed]"
          },
          "metadata": {
            "needs_background": "light"
          }
        }
      ]
    }
  ]
}