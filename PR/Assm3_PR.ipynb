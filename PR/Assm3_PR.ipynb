{
  "nbformat": 4,
  "nbformat_minor": 0,
  "metadata": {
    "colab": {
      "name": "Assm3_PR_170204025.ipynb",
      "provenance": [],
      "collapsed_sections": [
        "MVbBitmQvoHc"
      ]
    },
    "kernelspec": {
      "name": "python3",
      "display_name": "Python 3"
    },
    "language_info": {
      "name": "python"
    }
  },
  "cells": [
    {
      "cell_type": "markdown",
      "source": [
        "***Import Libraries***"
      ],
      "metadata": {
        "id": "vDtGbQU_wAYB"
      }
    },
    {
      "cell_type": "code",
      "execution_count": null,
      "metadata": {
        "id": "pO1qK1wAucne"
      },
      "outputs": [],
      "source": [
        "import numpy as np\n",
        "import matplotlib.pyplot as plt\n",
        "import os\n",
        "from math import sqrt"
      ]
    },
    {
      "cell_type": "markdown",
      "source": [
        "***Drive Connect***"
      ],
      "metadata": {
        "id": "fM3ml7ZtwGnh"
      }
    },
    {
      "cell_type": "code",
      "source": [
        "from google.colab import drive\n",
        "drive.mount('/content/drive')"
      ],
      "metadata": {
        "colab": {
          "base_uri": "https://localhost:8080/"
        },
        "id": "Ju8l2zSLuz_C",
        "outputId": "27555e39-9957-4437-ca46-2af0d1a19674"
      },
      "execution_count": null,
      "outputs": [
        {
          "output_type": "stream",
          "name": "stdout",
          "text": [
            "Mounted at /content/drive\n"
          ]
        }
      ]
    },
    {
      "cell_type": "markdown",
      "source": [
        "***Load Data***"
      ],
      "metadata": {
        "id": "nj_DG2gKwSZq"
      }
    },
    {
      "cell_type": "code",
      "source": [
        "trainData = np.loadtxt('/content/drive/MyDrive/Data/Pattern/train_knn.txt',delimiter=\",\",dtype='int32')\n",
        "print('Train Data')\n",
        "for x in trainData:\n",
        "    print(\"x = \",x[0],\"y = \",x[1],\"class = \",x[2])\n",
        "\n",
        "testData = np.loadtxt('/content/drive/MyDrive/Data/Pattern/test_knn.txt',delimiter=\",\",dtype='int32')\n",
        "print('\\n\\nTest Data:')\n",
        "for x in testData:\n",
        "    print('x=',x[0],'y=',x[1])"
      ],
      "metadata": {
        "colab": {
          "base_uri": "https://localhost:8080/"
        },
        "id": "AKWv0oK5u-XO",
        "outputId": "86546d12-e79e-4725-fc88-f8ed0429e346"
      },
      "execution_count": null,
      "outputs": [
        {
          "output_type": "stream",
          "name": "stdout",
          "text": [
            "Train Data\n",
            "x =  7 y =  7 class =  1\n",
            "x =  7 y =  4 class =  1\n",
            "x =  6 y =  4 class =  1\n",
            "x =  7 y =  5 class =  1\n",
            "x =  7 y =  6 class =  1\n",
            "x =  6 y =  7 class =  1\n",
            "x =  6 y =  6 class =  1\n",
            "x =  3 y =  4 class =  2\n",
            "x =  2 y =  3 class =  2\n",
            "x =  3 y =  2 class =  2\n",
            "x =  4 y =  3 class =  2\n",
            "x =  3 y =  3 class =  2\n",
            "x =  4 y =  4 class =  2\n",
            "x =  1 y =  4 class =  2\n",
            "\n",
            "\n",
            "Test Data:\n",
            "x= 3 y= 7\n",
            "x= 7 y= 7\n",
            "x= 4 y= 3\n",
            "x= 2 y= 8\n",
            "x= 3 y= 5\n",
            "x= 1 y= 2\n",
            "x= 4 y= 8\n",
            "x= 8 y= 3\n",
            "x= 8 y= 4\n"
          ]
        }
      ]
    },
    {
      "cell_type": "markdown",
      "source": [
        "# **Task 01**"
      ],
      "metadata": {
        "id": "MVbBitmQvoHc"
      }
    },
    {
      "cell_type": "code",
      "source": [
        "#seperating class\n",
        "train_class1=np.array([row for row in trainData if row[2]==1])\n",
        "train_class2=np.array([row for row in trainData if row[2]==2])\n",
        "\n",
        "#separating x, y\n",
        "x_train_1=train_class1[:,0]\n",
        "y_train_1=train_class1[:,1]\n",
        "x_train_2=train_class2[:,0]\n",
        "y_train_2=train_class2[:,1]"
      ],
      "metadata": {
        "id": "_bK4RH_ovdQw"
      },
      "execution_count": null,
      "outputs": []
    },
    {
      "cell_type": "code",
      "source": [
        "plt.figure(figsize = (10, 8))\n",
        "\n",
        "plt.scatter(x_train_1,y_train_1,marker='+',color='red',label='Class 1')\n",
        "plt.scatter(x_train_2,y_train_2,marker='*',color='black',label='Class 2')\n",
        "\n",
        "plt.legend()\n",
        "plt.show()"
      ],
      "metadata": {
        "colab": {
          "base_uri": "https://localhost:8080/",
          "height": 483
        },
        "id": "5tSVInSMvmzj",
        "outputId": "924665b5-2aac-43ce-bee5-0db75f331991"
      },
      "execution_count": null,
      "outputs": [
        {
          "output_type": "display_data",
          "data": {
            "text/plain": [
              "<Figure size 720x576 with 1 Axes>"
            ],
            "image/png": "[encoded data removed]"
          },
          "metadata": {
            "needs_background": "light"
          }
        }
      ]
    },
    {
      "cell_type": "markdown",
      "source": [
        "# **Task 02**"
      ],
      "metadata": {
        "id": "MqvD8bh7vngf"
      }
    },
    {
      "cell_type": "code",
      "source": [
        "if(os.path.isfile(\"predictionTempFile.txt\")):\n",
        "    os.remove(\"predictionTempFile.txt\")\n",
        "\n",
        "def distance(x,y):\n",
        "    return sqrt((x[0]-y[0])**2+(x[1]-y[1])**2)\n",
        "\n",
        "def KNNtemp(k,point):\n",
        "    predictionTempFile=open('predictionTempFile.txt','a')\n",
        "    best=[]\n",
        "    predictionTempFile.write(\"{},{},\".format(point[0],point[1]))\n",
        "    cnt_class1=0\n",
        "    cnt_class2=0\n",
        "    for item in trainData:\n",
        "        dis=distance(point,item)\n",
        "        best.append((dis,item[2]))\n",
        "    best.sort(key=lambda x:x[0])\n",
        "    for i in range(k):        \n",
        "        if(best[i][1]==1):\n",
        "            cnt_class1+=1\n",
        "        else:\n",
        "            cnt_class2+=1\n",
        "  \n",
        "    if(cnt_class1>=cnt_class2):\n",
        "        predictionTempFile.write(\"{}\\n\".format(1))  #class 1\n",
        "    else:\n",
        "        predictionTempFile.write(\"{}\\n\".format(2))  #class 2\n",
        "\n",
        "    predictionTempFile.close()"
      ],
      "metadata": {
        "id": "zyGcP7T0vtoz"
      },
      "execution_count": null,
      "outputs": []
    },
    {
      "cell_type": "code",
      "source": [
        "K=int(input('The value of K: '))  \n",
        "for point in testData:\n",
        "    KNNtemp(K,point)"
      ],
      "metadata": {
        "colab": {
          "base_uri": "https://localhost:8080/"
        },
        "id": "2AJ6TuoWvuVB",
        "outputId": "676ab2c4-a31d-485d-a968-be0d22c354c5"
      },
      "execution_count": null,
      "outputs": [
        {
          "name": "stdout",
          "output_type": "stream",
          "text": [
            "The value of K: 3\n"
          ]
        }
      ]
    },
    {
      "cell_type": "code",
      "source": [
        "predictedData = np.loadtxt('predictionTempFile.txt',delimiter=\",\",dtype='int32')\n",
        "print('predictedData:')\n",
        "for x in predictedData:\n",
        "    print(\"x = \",x[0],\"y = \",x[1],\"class = \",x[2])"
      ],
      "metadata": {
        "colab": {
          "base_uri": "https://localhost:8080/"
        },
        "id": "UkoV05FMvxYp",
        "outputId": "3c68ae36-0a15-4fe4-910d-c19bfb022801"
      },
      "execution_count": null,
      "outputs": [
        {
          "output_type": "stream",
          "name": "stdout",
          "text": [
            "predictedData:\n",
            "x =  3 y =  7 class =  1\n",
            "x =  7 y =  7 class =  1\n",
            "x =  4 y =  3 class =  2\n",
            "x =  2 y =  8 class =  2\n",
            "x =  3 y =  5 class =  2\n",
            "x =  1 y =  2 class =  2\n",
            "x =  4 y =  8 class =  1\n",
            "x =  8 y =  3 class =  1\n",
            "x =  8 y =  4 class =  1\n"
          ]
        }
      ]
    },
    {
      "cell_type": "code",
      "source": [
        "#seperating class\n",
        "train_class1=np.array([row for row in predictedData if row[2]==1])\n",
        "train_class2=np.array([row for row in predictedData if row[2]==2])\n",
        "\n",
        "#separating x, y\n",
        "x_train_1=train_class1[:,0]\n",
        "y_train_1=train_class1[:,1]\n",
        "x_train_2=train_class2[:,0]\n",
        "y_train_2=train_class2[:,1]"
      ],
      "metadata": {
        "id": "QIaCLSZ0vzFa"
      },
      "execution_count": null,
      "outputs": []
    },
    {
      "cell_type": "code",
      "source": [
        "plt.figure(figsize = (10, 8))\n",
        "\n",
        "plt.scatter(x_train_1,y_train_1,marker='+',color='red',label='Class 1')\n",
        "plt.scatter(x_train_2,y_train_2,marker='*',color='black',label='Class 2')\n",
        "\n",
        "plt.legend()\n",
        "plt.show()\n",
        "\n",
        "if(os.path.isfile(\"predictionTempFile.txt\")):\n",
        "    os.remove(\"predictionTempFile.txt\")"
      ],
      "metadata": {
        "colab": {
          "base_uri": "https://localhost:8080/",
          "height": 483
        },
        "id": "Dbtpu1jev00_",
        "outputId": "160c0eaf-ea9b-4ba0-9ccc-1fbfca1d7978"
      },
      "execution_count": null,
      "outputs": [
        {
          "output_type": "display_data",
          "data": {
            "text/plain": [
              "<Figure size 720x576 with 1 Axes>"
            ],
            "image/png": "[encoded data removed]"
          },
          "metadata": {
            "needs_background": "light"
          }
        }
      ]
    },
    {
      "cell_type": "markdown",
      "source": [
        "# **Task 03**"
      ],
      "metadata": {
        "id": "Z6JmIMmkv2xV"
      }
    },
    {
      "cell_type": "code",
      "source": [
        "if(os.path.isfile(\"prediction.txt\")):\n",
        "    os.remove(\"prediction.txt\")\n",
        "\n",
        "def distance(x,y):\n",
        "    return sqrt((x[0]-y[0])**2+(x[1]-y[1])**2)\n",
        "\n",
        "def KNN(k,point):\n",
        "    predictionFile=open('prediction.txt','a')\n",
        "    best=[]\n",
        "    predictionFile.write(\"Test Point: {},{}\\n\".format(point[0],point[1]))\n",
        "    cnt_class1=0\n",
        "    cnt_class2=0\n",
        "    for item in trainData:\n",
        "        dis=distance(point,item)\n",
        "        best.append((dis,item[2]))\n",
        "    best.sort(key=lambda x:x[0])\n",
        "    for i in range(k):\n",
        "        predictionFile.write(\"Distance {}: {:.2f} \\t Class:{}\\n\".format(i+1,best[i][0],best[i][1]))\n",
        "    for i in range(k):        \n",
        "        if(best[i][1]==1):\n",
        "            cnt_class1+=1\n",
        "        else:\n",
        "            cnt_class2+=1\n",
        "  \n",
        "    if(cnt_class1>=cnt_class2):\n",
        "        predictionFile.write(\"Predicted Class {}\\n\".format(1))  #class 1\n",
        "    else:\n",
        "        predictionFile.write(\"Predicted Class {}\\n\".format(2))  #class 2\n",
        "    predictionFile.write(\"\\n\")  \n",
        "    predictionFile.close()    "
      ],
      "metadata": {
        "id": "kqo-kEkEv3D8"
      },
      "execution_count": null,
      "outputs": []
    },
    {
      "cell_type": "code",
      "source": [
        "K=int(input('Enter K value:'))  \n",
        "for point in testData:\n",
        "    KNN(K,point)"
      ],
      "metadata": {
        "colab": {
          "base_uri": "https://localhost:8080/"
        },
        "id": "WgVEyudwv5mW",
        "outputId": "fa4a52b8-de57-4abe-becd-c39c5fc6e43b"
      },
      "execution_count": null,
      "outputs": [
        {
          "name": "stdout",
          "output_type": "stream",
          "text": [
            "Enter K value:3\n"
          ]
        }
      ]
    },
    {
      "cell_type": "code",
      "source": [
        "predictionFile = open(\"prediction.txt\")\n",
        "predictionFileContent = predictionFile.read()\n",
        "predictionFile.close()    \n",
        "print(predictionFileContent)"
      ],
      "metadata": {
        "colab": {
          "base_uri": "https://localhost:8080/"
        },
        "id": "b2uVGwhjv7bV",
        "outputId": "7b30bb6e-8fb5-459e-dcf9-5680990f3d79"
      },
      "execution_count": null,
      "outputs": [
        {
          "output_type": "stream",
          "name": "stdout",
          "text": [
            "Test Point: 3,7\n",
            "Distance 1: 3.00 \t Class:1\n",
            "Distance 2: 3.00 \t Class:2\n",
            "Distance 3: 3.16 \t Class:1\n",
            "Predicted Class 1\n",
            "\n",
            "Test Point: 7,7\n",
            "Distance 1: 0.00 \t Class:1\n",
            "Distance 2: 1.00 \t Class:1\n",
            "Distance 3: 1.00 \t Class:1\n",
            "Predicted Class 1\n",
            "\n",
            "Test Point: 4,3\n",
            "Distance 1: 0.00 \t Class:2\n",
            "Distance 2: 1.00 \t Class:2\n",
            "Distance 3: 1.00 \t Class:2\n",
            "Predicted Class 2\n",
            "\n",
            "Test Point: 2,8\n",
            "Distance 1: 4.12 \t Class:1\n",
            "Distance 2: 4.12 \t Class:2\n",
            "Distance 3: 4.12 \t Class:2\n",
            "Predicted Class 2\n",
            "\n",
            "Test Point: 3,5\n",
            "Distance 1: 1.00 \t Class:2\n",
            "Distance 2: 1.41 \t Class:2\n",
            "Distance 3: 2.00 \t Class:2\n",
            "Predicted Class 2\n",
            "\n",
            "Test Point: 1,2\n",
            "Distance 1: 1.41 \t Class:2\n",
            "Distance 2: 2.00 \t Class:2\n",
            "Distance 3: 2.00 \t Class:2\n",
            "Predicted Class 2\n",
            "\n",
            "Test Point: 4,8\n",
            "Distance 1: 2.24 \t Class:1\n",
            "Distance 2: 2.83 \t Class:1\n",
            "Distance 3: 3.16 \t Class:1\n",
            "Predicted Class 1\n",
            "\n",
            "Test Point: 8,3\n",
            "Distance 1: 1.41 \t Class:1\n",
            "Distance 2: 2.24 \t Class:1\n",
            "Distance 3: 2.24 \t Class:1\n",
            "Predicted Class 1\n",
            "\n",
            "Test Point: 8,4\n",
            "Distance 1: 1.00 \t Class:1\n",
            "Distance 2: 1.41 \t Class:1\n",
            "Distance 3: 2.00 \t Class:1\n",
            "Predicted Class 1\n",
            "\n",
            "\n"
          ]
        }
      ]
    }
  ]
}