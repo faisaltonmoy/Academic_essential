{
  "nbformat": 4,
  "nbformat_minor": 0,
  "metadata": {
    "colab": {
      "name": "Assm1_PR_170204025.ipynb",
      "provenance": []
    },
    "kernelspec": {
      "name": "python3",
      "display_name": "Python 3"
    },
    "language_info": {
      "name": "python"
    }
  },
  "cells": [
    {
      "cell_type": "code",
      "execution_count": null,
      "metadata": {
        "id": "C3fakFNX3xjf"
      },
      "outputs": [],
      "source": [
        "import pandas as pd\n",
        "import numpy as np\n",
        "import matplotlib.pyplot as plt"
      ]
    },
    {
      "cell_type": "code",
      "source": [
        "from google.colab import drive\n",
        "drive.mount('/content/drive')\n",
        "data = np.loadtxt('/content/drive/MyDrive/Data/Pattern/train-perceptron.txt')"
      ],
      "metadata": {
        "colab": {
          "base_uri": "https://localhost:8080/"
        },
        "id": "Y4fl6oG44S95",
        "outputId": "dc5f7ae1-e5bd-4559-daac-89db8e7baab6"
      },
      "execution_count": null,
      "outputs": [
        {
          "output_type": "stream",
          "name": "stdout",
          "text": [
            "Mounted at /content/drive\n"
          ]
        }
      ]
    },
    {
      "cell_type": "code",
      "source": [
        "#Separating Class 1\n",
        "class_1=np.array([row for row in data if row[2]==1])\n",
        "\n",
        "#Separating Class 2\n",
        "class_2=np.array([row for row in data if row[2]==2])   \n",
        "\n",
        "print(\"Class 1:\")\n",
        "print(class_1)\n",
        "\n",
        "print('\\nClass 2:')\n",
        "print(class_2)"
      ],
      "metadata": {
        "colab": {
          "base_uri": "https://localhost:8080/"
        },
        "id": "fznyF3nt48nV",
        "outputId": "50a42e4a-4a55-4050-c954-71e248d7a863"
      },
      "execution_count": null,
      "outputs": [
        {
          "output_type": "stream",
          "name": "stdout",
          "text": [
            "Class 1:\n",
            "[[ 1.  1.  1.]\n",
            " [ 1. -1.  1.]\n",
            " [ 4.  5.  1.]]\n",
            "\n",
            "Class 2:\n",
            "[[2.  2.5 2. ]\n",
            " [0.  2.  2. ]\n",
            " [2.  3.  2. ]]\n"
          ]
        }
      ]
    },
    {
      "cell_type": "markdown",
      "source": [
        "# ***Task 01***\n",
        "Take input from “train.txt” file. Plot all sample points from both classes, but samples\n",
        "from the same class should have the same color and marker. Observe if these two\n",
        "classes can be separated with a linear boundary."
      ],
      "metadata": {
        "id": "UpMEYz235q4J"
      }
    },
    {
      "cell_type": "code",
      "source": [
        "# X & Y co-ordinates for class 1\n",
        "x_train_1 = class_1[:,0]\n",
        "y_train_1 = class_1[:,1]\n",
        "\n",
        "# X & Y co-ordinates for class 2\n",
        "x_train_2 = class_2[:,0]\n",
        "y_train_2 = class_2[:,1]\n",
        "\n",
        "\n",
        "plt.figure(figsize = (12, 8))\n",
        "\n",
        "plt.scatter(x_train_1, y_train_1, marker='d', label = 'Class 1', color = 'green')\n",
        "plt.scatter(x_train_2, y_train_2, marker='s', label = 'Class 2', color = 'red')\n",
        "\n",
        "plt.legend()\n",
        "plt.show()"
      ],
      "metadata": {
        "colab": {
          "base_uri": "https://localhost:8080/",
          "height": 483
        },
        "id": "tZCPjE7f5u73",
        "outputId": "a92cfa5d-118e-4886-c5b1-9b90f6e7e71e"
      },
      "execution_count": null,
      "outputs": [
        {
          "output_type": "display_data",
          "data": {
            "text/plain": [
              "<Figure size 864x576 with 1 Axes>"
            ],
            "image/png": "[encoded data removed]"
          },
          "metadata": {
            "needs_background": "light"
          }
        }
      ]
    },
    {
      "cell_type": "markdown",
      "source": [
        "# **Two classes are separated with a linear boundary**\n",
        "\n",
        "![plot_t1.PNG](data:image/png;base64,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)"
      ],
      "metadata": {
        "id": "-gh6jS2o_K22"
      }
    },
    {
      "cell_type": "markdown",
      "source": [
        "# ***Task 02***\n",
        "Consider the case of a second order polynomial discriminant function. Generate the high dimensional sample points y, as discussed in the class."
      ],
      "metadata": {
        "id": "xXRxjfxi_2Ij"
      }
    },
    {
      "cell_type": "code",
      "source": [
        "def func_y(x1,x2):\n",
        "    return np.array([x1**2, x2**2, x1*x2, x1, x2, 1])\n",
        "\n",
        "norm_class=[]\n",
        "\n",
        "for row in class_1:\n",
        "    norm_class.append(func_y(row[0],row[1])) \n",
        "\n",
        "for row in class_2:\n",
        "    norm_class.append(np.dot(func_y(row[0],row[1]),-1)) #applying dot multiplication with -1 to class 1\n",
        "  \n",
        "norm_class = np.array(norm_class)\n",
        "print(\"Normalized class:\\n\")\n",
        "print(norm_class)"
      ],
      "metadata": {
        "colab": {
          "base_uri": "https://localhost:8080/"
        },
        "id": "C2FSeyfK_SHV",
        "outputId": "594c1d1f-79f4-4d21-8e33-fbb5027955c3"
      },
      "execution_count": null,
      "outputs": [
        {
          "output_type": "stream",
          "name": "stdout",
          "text": [
            "Normalized class:\n",
            "\n",
            "[[ 1.    1.    1.    1.    1.    1.  ]\n",
            " [ 1.    1.   -1.    1.   -1.    1.  ]\n",
            " [16.   25.   20.    4.    5.    1.  ]\n",
            " [-4.   -6.25 -5.   -2.   -2.5  -1.  ]\n",
            " [ 0.   -4.    0.    0.   -2.   -1.  ]\n",
            " [-4.   -9.   -6.   -2.   -3.   -1.  ]]\n"
          ]
        }
      ]
    },
    {
      "cell_type": "markdown",
      "source": [
        "# ***Task 3***\n",
        "\n",
        "Use Perceptron Algorithm (both one at a time and many at a time) for finding the weightcoefficients of the discriminant function (i.e., values of w) boundary for your linear classifier in task 2.\n",
        "\n",
        "Here α is the learning rate and 0 < α ≤ 1."
      ],
      "metadata": {
        "id": "jLjzyMi1nGjM"
      }
    },
    {
      "cell_type": "code",
      "source": [
        "w = np.zeros_like(norm_class[0])  \n",
        "\n",
        "def ManyAAT(alpha, w):\n",
        "    for itr in range(500):\n",
        "        miscls = False;\n",
        "        y_sum = np.zeros_like(norm_class[0])\n",
        "        \n",
        "        for i in range(len(norm_class)):\n",
        "            val = np.dot(norm_class[i], w)\n",
        "            \n",
        "            if (val <= 0.0):\n",
        "                miscls = True     #if value <= 0, then misclassified\n",
        "                y_sum = y_sum + norm_class[i]   # sum y\n",
        "\n",
        "        w = w + alpha * y_sum       # w = w(i) + alpha * sum y\n",
        "        \n",
        "        if (miscls == False):\n",
        "            return itr + 1\n",
        "\n",
        "    return -1 "
      ],
      "metadata": {
        "id": "53_T6kRkmy2B"
      },
      "execution_count": null,
      "outputs": []
    },
    {
      "cell_type": "code",
      "source": [
        "w=np.zeros_like(norm_class[0])\n",
        "\n",
        "def OneAAT(alpha, w):\n",
        "    for itr in range(500):\n",
        "        miscls = False;  \n",
        "\n",
        "        for i in range(len(norm_class)):\n",
        "            val = np.dot(norm_class[i], w)\n",
        "\n",
        "            if (val <= 0.0):\n",
        "                miscls = True       #if value <= 0, then misclassified\n",
        "                y_sum = np.zeros_like(norm_class[0])\n",
        "                y_sum = y_sum + norm_class[i]   # sum y\n",
        "                w = w + alpha * y_sum       # w = w(i) + alpha * sum y\n",
        "\n",
        "        if (miscls == False):\n",
        "            return itr + 1\n",
        "\n",
        "    return -1"
      ],
      "metadata": {
        "id": "jzpUeK1jnRlz"
      },
      "execution_count": null,
      "outputs": []
    }
  ]
}